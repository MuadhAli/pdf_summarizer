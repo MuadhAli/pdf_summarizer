{
 "cells": [
  {
   "cell_type": "code",
   "execution_count": 27,
   "id": "80dd68a7",
   "metadata": {},
   "outputs": [],
   "source": [
    "from langchain.embeddings.openai import OpenAIEmbeddings\n",
    "from langchain.vectorstores import Chroma\n",
    "from langchain.text_splitter import CharacterTextSplitter\n",
    "from langchain import OpenAI, VectorDBQA\n",
    "from langchain.document_loaders import DirectoryLoader\n",
    "import magic\n",
    "import os\n",
    "import nltk\n",
    "import chromadb\n",
    "import tiktoken"
   ]
  },
  {
   "cell_type": "code",
   "execution_count": 28,
   "id": "5c5161cd",
   "metadata": {},
   "outputs": [],
   "source": [
    "os.environ['OPENAI_API_KEY'] = '...'"
   ]
  },
  {
   "cell_type": "code",
   "execution_count": 29,
   "id": "41a7d94a",
   "metadata": {},
   "outputs": [],
   "source": [
    "loader = DirectoryLoader('./data/', glob='**/*.pdf')"
   ]
  },
  {
   "cell_type": "code",
   "execution_count": 30,
   "id": "98ab9d3e",
   "metadata": {
    "scrolled": true
   },
   "outputs": [
    {
     "name": "stderr",
     "output_type": "stream",
     "text": [
      "detectron2 is not installed. Cannot use the hi_res partitioning strategy. Falling back to partitioning with the fast strategy.\n"
     ]
    }
   ],
   "source": [
    "documents = loader.load()"
   ]
  },
  {
   "cell_type": "code",
   "execution_count": 32,
   "id": "60e9dc3d",
   "metadata": {},
   "outputs": [],
   "source": [
    "text_splitter = CharacterTextSplitter(chunk_size=1000, chunk_overlap=0)"
   ]
  },
  {
   "cell_type": "code",
   "execution_count": 33,
   "id": "e563f1bd",
   "metadata": {},
   "outputs": [],
   "source": [
    "texts = text_splitter.split_documents(documents)"
   ]
  },
  {
   "cell_type": "code",
   "execution_count": 35,
   "id": "69cd5030",
   "metadata": {},
   "outputs": [],
   "source": [
    "embeddings = OpenAIEmbeddings(openai_api_key=os.environ['OPENAI_API_KEY'])"
   ]
  },
  {
   "cell_type": "code",
   "execution_count": 36,
   "id": "f0fd0842",
   "metadata": {
    "scrolled": true
   },
   "outputs": [
    {
     "name": "stderr",
     "output_type": "stream",
     "text": [
      "Using embedded DuckDB without persistence: data will be transient\n"
     ]
    }
   ],
   "source": [
    "docsearch = Chroma.from_documents(texts, embeddings)"
   ]
  },
  {
   "cell_type": "code",
   "execution_count": 43,
   "id": "618c63f2",
   "metadata": {
    "scrolled": true
   },
   "outputs": [],
   "source": [
    "qa = VectorDBQA.from_chain_type(llm=OpenAI(), chain_type=\"stuff\", vectorstore=docsearch)"
   ]
  },
  {
   "cell_type": "code",
   "execution_count": 44,
   "id": "fbfa3d26",
   "metadata": {},
   "outputs": [
    {
     "data": {
      "text/plain": [
       "\" I don't know.\""
      ]
     },
     "execution_count": 44,
     "metadata": {},
     "output_type": "execute_result"
    }
   ],
   "source": [
    "query = \"what is the file about?\"\n",
    "qa.run(query)"
   ]
  },
  {
   "cell_type": "code",
   "execution_count": 39,
   "id": "3ff235b1",
   "metadata": {},
   "outputs": [],
   "source": [
    "qa = VectorDBQA.from_chain_type(llm=OpenAI(), chain_type=\"stuff\", vectorstore=docsearch, return_source_documents=True)\n",
    "query = \"what is the file about?\"\n",
    "result = qa({\"query\": query})"
   ]
  },
  {
   "cell_type": "code",
   "execution_count": 40,
   "id": "f5f45731",
   "metadata": {},
   "outputs": [
    {
     "data": {
      "text/plain": [
       "' The file discusses the development of a device called \"AM THE EYE\" which provides navigation solutions for visually impaired people. It has numerous components such as WIFI, Edge/Fog/Mist, Storage-32gb SD Card, Data Abstraction-LBPH Frontal Face and Security-Secured Networks. The data flow in the device is depicted in a diagram which illustrates the capabilities of the device. A schematic is provided which displays the process of the Raspberry-GPIO PI\\'s pins being initialized, connected to the smartphone\\'s Bluetooth and Wi-Fi, and executing commands when a button is touched. The hardware implementation involves the GSM Module or mobile phone being used to make and receive phone calls, convert text from SMS into Braille format, and 6 LRA motors arranged in the format of braille dots. The motivation for the development of the device is to empower the blind and visually impaired.'"
      ]
     },
     "execution_count": 40,
     "metadata": {},
     "output_type": "execute_result"
    }
   ],
   "source": [
    "result['result']"
   ]
  },
  {
   "cell_type": "code",
   "execution_count": 41,
   "id": "05d4966e",
   "metadata": {
    "scrolled": true
   },
   "outputs": [
    {
     "data": {
      "text/plain": [
       "[Document(page_content='WIFI.,  Edge/Fog/Mist  –Nil,  Storage-32gb  SD  Card,  Data  Abstraction-  LBPH  Frontal  Face,\\n\\nApplication  Development-Nil,  People  and  Business  Process-  Visually  Impaired  People,  Security-\\n\\nSecured Networks.\\n\\nB. Data Flow Diagram\\n\\nThe  data  flow  in  \"AM  THE  EYE\"  is  depicted  in  the  diagram  below.  Because  the\\n\\ndevice  has  numerous components,  it depicts the path  in which data flows  inside the circuit.\\n\\nThis diagram depicts how the program\\'s components or steps are carried out.\\n\\nThe  applications  of  \"AM  THE  EYE\"  are  depicted  in  this  diagram.  It  illustrates  the\\n\\ncapabilities of the device. The graphics above demonstrate a system\\'s high-level capabilities\\n\\nand breadth. These diagrams also depict the system\\'s and its actors\\' interactions. As shown in,\\n\\nuse cases and actors explain what the system does and how the actors interact with it, but they\\n\\ndo not explain how the system works within. Through fig. 3.4.\\n\\nC. Schematic', metadata={'source': 'data/Assistive_Eye.pdf'}),\n",
       " Document(page_content=\"A schematic displays a process's component elements in logical sequence. The\\n\\nprocess begins with the Raspberry-GPIO PI's pins being initialized. It is then connected to the\\n\\nsmartphone's Bluetooth and Wi-Fi, and when a button is touched, it either listens for or\\n\\nexecutes a command; there are numerous commands in it, for example, a command to send a\\n\\nand\\n\\nmessage, a command to walk, a command to read,\\n\\nso on.\\n\\nstart Initialize the Pi's GPIO pins. Connect to the smartphone's Bluetooth audio and Wi-Fi. If button pressed Notification mode Listen to command Command is call Command is message Command is walk Command is who Command is what Command is calculate CALL FUNCTION Send SMS Walk who what Calculate no  no no   CALL FUNCTION no no no no yes yes yes yes yes yes yes\\n\\nD. Hardware Implementation\\n\\nThe  microcontroller  will be connected to the  mobile  phone through WIFI. The user  will be\\n\\nnotified whenever he receives calls or messages, and he can return the call or text.\", metadata={'source': 'data/Assistive_Eye.pdf'}),\n",
       " Document(page_content=\"that  they  are  at  maximum  capacity.  Then,  set  Rows  R1-R4  to  Low  and  verify  the  column\\n\\nstatus. Any key pushed in a Low column shows that one of the column's four keys is being\\n\\npressed. If all columns are set to High, no key has been pressed. Find the key next. Because\\n\\nthe column in which the pressed key is placed has been discovered, knowing the line would\\n\\ncomplete the testing. As a consequence, turn the rows Low one at a time until one is exposed\\n\\n– the remaining rows will stay High. The row can now be identified. Determine the status of\\n\\neach column in turn..\\n\\nThe GSM Module or the mobile phone is used to make and receive phone calls. On Wikipedia, you\\n\\nmay  compute  the  mathematical  computation  and  look  up  information  on  a  specific  subject.  It  will\\n\\nconvert  the  text  from  the  SMS  into  Braille  format.  There  will  be  6  LRA  motors  which  are\\n\\nplaced in the format of braille dots. It will vibrate in accordance with the text\", metadata={'source': 'data/Assistive_Eye.pdf'}),\n",
       " Document(page_content=\"underlying  technology.  Finally, the paper concludes with some recommendations  based on\\n\\nthe authors' extensive research. The authors believe that this paper can provide an overview\\n\\nof  recent  developments  in  the  field  and  that  the  recommendations  can  be  used  to  develop\\n\\nfuture navigation solutions for visually impaired people.\\n\\nMOTIVATION:\\n\\nOnly  a  few  inventors  and  innovators  are  working  to  empower  the  world's  blind  and\\n\\nvisually  impaired  in  overcoming  their  constraints.  The  percentage  of  inventors  working  on\\n\\nhelpful  solutions  for  persons  with  impairments,  on  the  other  hand,  is  steadily  increasing.\\n\\nFurthermore,  we  currently  live  in  an  era  when  inventions  and  new  solutions  are  created  in\\n\\nquite  different  ways  than  in  the  past.  Academic  research  institutes  were  responsible  for  the\\n\\nmajority  of  inventions  only  a  century  ago.  Today,  anybody  and  everyone  can  create  an\\n\\ninnovation.\", metadata={'source': 'data/Assistive_Eye.pdf'})]"
      ]
     },
     "execution_count": 41,
     "metadata": {},
     "output_type": "execute_result"
    }
   ],
   "source": [
    "result['source_documents']"
   ]
  },
  {
   "cell_type": "code",
   "execution_count": null,
   "id": "0d026303",
   "metadata": {},
   "outputs": [],
   "source": []
  }
 ],
 "metadata": {
  "kernelspec": {
   "display_name": "Python 3 (ipykernel)",
   "language": "python",
   "name": "python3"
  },
  "language_info": {
   "codemirror_mode": {
    "name": "ipython",
    "version": 3
   },
   "file_extension": ".py",
   "mimetype": "text/x-python",
   "name": "python",
   "nbconvert_exporter": "python",
   "pygments_lexer": "ipython3",
   "version": "3.10.6"
  }
 },
 "nbformat": 4,
 "nbformat_minor": 5
}
